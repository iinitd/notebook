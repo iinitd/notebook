{
  "nbformat": 4,
  "nbformat_minor": 0,
  "metadata": {
    "colab": {
      "name": "lab.ipynb",
      "provenance": [],
      "authorship_tag": "ABX9TyPl9t51uHvNWnW+mF0Gz6XZ",
      "include_colab_link": true
    },
    "kernelspec": {
      "name": "python3",
      "display_name": "Python 3"
    },
    "language_info": {
      "name": "python"
    }
  },
  "cells": [
    {
      "cell_type": "markdown",
      "metadata": {
        "id": "view-in-github",
        "colab_type": "text"
      },
      "source": [
        "<a href=\"https://colab.research.google.com/github/iinitd/notebook/blob/main/lab.ipynb\" target=\"_parent\"><img src=\"https://colab.research.google.com/assets/colab-badge.svg\" alt=\"Open In Colab\"/></a>"
      ]
    },
    {
      "cell_type": "code",
      "metadata": {
        "id": "tZuD0Qvyrysn"
      },
      "source": [
        "通用高度=2700"
      ],
      "execution_count": 12,
      "outputs": []
    },
    {
      "cell_type": "markdown",
      "metadata": {
        "id": "3z29duKtsQYh"
      },
      "source": [
        "厨房"
      ]
    },
    {
      "cell_type": "code",
      "metadata": {
        "colab": {
          "base_uri": "https://localhost:8080/"
        },
        "id": "-yR0i0AEsHxv",
        "outputId": "a9058403-311c-40c9-bb9b-95c9c319683b"
      },
      "source": [
        "厨房外窗面积=650*1440\n",
        "厨房内窗面积=1860*1400\n",
        "厨房底边长度=420+710+1600+370+460+1000+660+740+1860\n",
        "厨房底边长度\n",
        "\n",
        "厨房墙面瓷砖面积=厨房底边长度*通用高度-厨房外窗面积-厨房内窗面积\n",
        "厨房墙面瓷砖面积"
      ],
      "execution_count": 13,
      "outputs": [
        {
          "output_type": "execute_result",
          "data": {
            "text/plain": [
              "17574000"
            ]
          },
          "metadata": {
            "tags": []
          },
          "execution_count": 13
        }
      ]
    },
    {
      "cell_type": "markdown",
      "metadata": {
        "id": "CklVUIA9sTqh"
      },
      "source": [
        "客卫"
      ]
    },
    {
      "cell_type": "code",
      "metadata": {
        "colab": {
          "base_uri": "https://localhost:8080/"
        },
        "id": "IgWpBePUsJMo",
        "outputId": "a342e70a-25b0-4744-8036-0a919e0c99f3"
      },
      "source": [
        "客卫底边长度=2280+1200+850+340+1440+650\n",
        "客卫窗户面积=1380*600\n",
        "客卫墙面瓷砖面积=客卫底边长度*通用高度-客卫窗户面积\n",
        "客卫墙面瓷砖面积"
      ],
      "execution_count": 18,
      "outputs": [
        {
          "output_type": "execute_result",
          "data": {
            "text/plain": [
              "17424000"
            ]
          },
          "metadata": {
            "tags": []
          },
          "execution_count": 18
        }
      ]
    },
    {
      "cell_type": "markdown",
      "metadata": {
        "id": "vjuMO24msXQI"
      },
      "source": [
        "主卫"
      ]
    },
    {
      "cell_type": "code",
      "metadata": {
        "colab": {
          "base_uri": "https://localhost:8080/"
        },
        "id": "khfElqQWsKtm",
        "outputId": "c7295a2d-aeb7-4859-e87d-9718baf48e36"
      },
      "source": [
        "主卫底边长度=1570+850+(1570-850)+34+1540 #飘窗估算\n",
        "主卫窗户面积=1800*660\n",
        "主卫墙面瓷砖面积=主卫底边长度*通用高度-主卫窗户面积\n",
        "print(主卫墙面瓷砖面积)\n",
        "\n",
        "主卫地面瓷砖面积=1540*1570-340*850\n",
        "print(主卫地面瓷砖面积)"
      ],
      "execution_count": 17,
      "outputs": [
        {
          "output_type": "stream",
          "text": [
            "11539800\n",
            "2128800\n"
          ],
          "name": "stdout"
        }
      ]
    },
    {
      "cell_type": "markdown",
      "metadata": {
        "id": "EnDCqqZCsZv9"
      },
      "source": [
        "拆除"
      ]
    },
    {
      "cell_type": "code",
      "metadata": {
        "colab": {
          "base_uri": "https://localhost:8080/"
        },
        "id": "3KZWrF8BsOE6",
        "outputId": "62fa2489-72cf-4179-ecfc-b956700035e9"
      },
      "source": [
        "拆除总价=350+976+175+471+175+423+175+323+400+700+227+150+700+227+150+505+225+1000+700\n",
        "拆除总价"
      ],
      "execution_count": 16,
      "outputs": [
        {
          "output_type": "execute_result",
          "data": {
            "text/plain": [
              "8052"
            ]
          },
          "metadata": {
            "tags": []
          },
          "execution_count": 16
        }
      ]
    },
    {
      "cell_type": "code",
      "metadata": {
        "id": "R9OGDDl9sOtE"
      },
      "source": [
        ""
      ],
      "execution_count": 16,
      "outputs": []
    }
  ]
}