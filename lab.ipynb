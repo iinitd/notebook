{
  "nbformat": 4,
  "nbformat_minor": 0,
  "metadata": {
    "colab": {
      "name": "“lab.ipynb”的副本",
      "provenance": [],
      "authorship_tag": "ABX9TyMVEiysAPr8YF/bP7Or4qUo",
      "include_colab_link": true
    },
    "kernelspec": {
      "name": "python3",
      "display_name": "Python 3"
    },
    "language_info": {
      "name": "python"
    }
  },
  "cells": [
    {
      "cell_type": "markdown",
      "metadata": {
        "id": "view-in-github",
        "colab_type": "text"
      },
      "source": [
        "<a href=\"https://colab.research.google.com/github/iinitd/notebook/blob/main/lab.ipynb\" target=\"_parent\"><img src=\"https://colab.research.google.com/assets/colab-badge.svg\" alt=\"Open In Colab\"/></a>"
      ]
    },
    {
      "cell_type": "code",
      "metadata": {
        "id": "tZuD0Qvyrysn"
      },
      "source": [
        "通用高度=2500"
      ],
      "execution_count": null,
      "outputs": []
    },
    {
      "cell_type": "markdown",
      "metadata": {
        "id": "3z29duKtsQYh"
      },
      "source": [
        "厨房"
      ]
    },
    {
      "cell_type": "code",
      "metadata": {
        "colab": {
          "base_uri": "https://localhost:8080/"
        },
        "id": "-yR0i0AEsHxv",
        "outputId": "40b3e982-7d32-4166-ecce-aad65c10cac8"
      },
      "source": [
        "厨房外窗面积=650*1440\n",
        "厨房内窗面积=1860*1400\n",
        "#厨房底边长度=420+710+1600+370+460+1000+660+740+1860\n",
        "厨房底边长度=1815+700+600+310+615+60+675+375+1370+600+430\n",
        "厨房底边长度\n",
        "\n",
        "厨房墙面瓷砖面积=厨房底边长度*通用高度-厨房外窗面积-厨房内窗面积\n",
        "print('厨房墙面瓷砖面积', 厨房墙面瓷砖面积)\n",
        "\n",
        "厨房地面面积=1815*800\n",
        "print('厨房地面面积', 厨房地面面积)\n",
        "\n",
        "隐蔽砖地面面积=1815*600+(310+615)*660+600*(1370+650)\n",
        "隐蔽砖墙面面积=(1815+310+615+370)*680+1370*800\n",
        "隐蔽砖面积=隐蔽砖墙面面积+隐蔽砖地面面积\n",
        "print('隐蔽砖面积', 隐蔽砖面积)"
      ],
      "execution_count": null,
      "outputs": [
        {
          "output_type": "stream",
          "text": [
            "厨房墙面瓷砖面积 15335000\n",
            "厨房地面面积 1452000\n",
            "隐蔽砖面积 6122300\n"
          ],
          "name": "stdout"
        }
      ]
    },
    {
      "cell_type": "markdown",
      "metadata": {
        "id": "CklVUIA9sTqh"
      },
      "source": [
        "客卫"
      ]
    },
    {
      "cell_type": "code",
      "metadata": {
        "colab": {
          "base_uri": "https://localhost:8080/"
        },
        "id": "IgWpBePUsJMo",
        "outputId": "176930e3-cf21-4472-9994-0b0d84cd9bc2"
      },
      "source": [
        "客卫底边长度=2280+1200+850+340+1440+650\n",
        "客卫窗户面积=1380*600\n",
        "客卫墙面瓷砖面积=客卫底边长度*通用高度-客卫窗户面积\n",
        "print('客卫墙面瓷砖面积', 客卫墙面瓷砖面积)\n",
        "\n",
        "客卫地面面积=2320*1550\n",
        "print('客卫地面面积', 客卫地面面积)"
      ],
      "execution_count": null,
      "outputs": [
        {
          "output_type": "stream",
          "text": [
            "客卫墙面瓷砖面积 16072000\n",
            "客卫地面面积 3596000\n"
          ],
          "name": "stdout"
        }
      ]
    },
    {
      "cell_type": "markdown",
      "metadata": {
        "id": "vjuMO24msXQI"
      },
      "source": [
        "主卫"
      ]
    },
    {
      "cell_type": "code",
      "metadata": {
        "colab": {
          "base_uri": "https://localhost:8080/"
        },
        "id": "khfElqQWsKtm",
        "outputId": "eabae306-7f16-49d8-e687-36ecbf9e3bb7"
      },
      "source": [
        "主卫底边长度=1570+850+(1570-850)+34+1540 #飘窗估算\n",
        "主卫窗户面积=1800*660\n",
        "主卫墙面瓷砖面积=主卫底边长度*通用高度-主卫窗户面积\n",
        "print('主卫墙面瓷砖面积', 主卫墙面瓷砖面积)\n",
        "\n",
        "主卫地面瓷砖面积=1540*1570-340*850\n",
        "print('主卫地面瓷砖面积', 主卫地面瓷砖面积)\n",
        "\n",
        "主卫水磨石面积=2500*2500+1300*2500-1800*570\n",
        "print('主卫水磨石面积', 主卫水磨石面积)\n",
        "\n",
        "主卫小绿砖面积=1590*2500\n",
        "print('主卫小绿砖面积', 主卫小绿砖面积)"
      ],
      "execution_count": null,
      "outputs": [
        {
          "output_type": "stream",
          "text": [
            "主卫墙面瓷砖面积 10597000\n",
            "主卫地面瓷砖面积 2128800\n",
            "主卫水磨石面积 8474000\n",
            "主卫小绿砖面积 3975000\n"
          ],
          "name": "stdout"
        }
      ]
    },
    {
      "cell_type": "markdown",
      "metadata": {
        "id": "5WvVUn6KhOTq"
      },
      "source": [
        "阳台"
      ]
    },
    {
      "cell_type": "code",
      "metadata": {
        "id": "yJEbX2EKhN8j",
        "colab": {
          "base_uri": "https://localhost:8080/"
        },
        "outputId": "92e9decb-0147-40e7-e44a-1a264f1efcbc"
      },
      "source": [
        "阳台地面面积=3180*1280\n",
        "print('阳台地面面积', 阳台地面面积)\n",
        "\n",
        "阳台墙面面积=(540+510+590+240+240+1280)*1200\n",
        "print('阳台墙面面积', 阳台墙面面积)"
      ],
      "execution_count": null,
      "outputs": [
        {
          "output_type": "stream",
          "text": [
            "阳台地面面积 4070400\n",
            "阳台墙面面积 4080000\n"
          ],
          "name": "stdout"
        }
      ]
    },
    {
      "cell_type": "markdown",
      "metadata": {
        "id": "EnDCqqZCsZv9"
      },
      "source": [
        "拆除"
      ]
    },
    {
      "cell_type": "code",
      "metadata": {
        "colab": {
          "base_uri": "https://localhost:8080/"
        },
        "id": "3KZWrF8BsOE6",
        "outputId": "c0ccb8a8-4451-4f1c-f3e2-277f7f3b0ab8"
      },
      "source": [
        "拆除总价=350+976+175+471+175+423+175+323+400+700+227+150+700+227+150+505+225+1000+700\n",
        "拆除总价"
      ],
      "execution_count": null,
      "outputs": [
        {
          "output_type": "execute_result",
          "data": {
            "text/plain": [
              "8052"
            ]
          },
          "metadata": {
            "tags": []
          },
          "execution_count": 6
        }
      ]
    },
    {
      "cell_type": "code",
      "metadata": {
        "id": "R9OGDDl9sOtE"
      },
      "source": [
        ""
      ],
      "execution_count": null,
      "outputs": []
    }
  ]
}